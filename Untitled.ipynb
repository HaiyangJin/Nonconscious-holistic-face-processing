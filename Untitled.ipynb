{
 "cells": [
  {
   "cell_type": "code",
   "execution_count": 24,
   "metadata": {},
   "outputs": [],
   "source": [
    "using CSV, DataFrames, MixedModels"
   ]
  },
  {
   "cell_type": "code",
   "execution_count": 25,
   "metadata": {},
   "outputs": [
    {
     "data": {
      "text/html": [
       "<table class=\"data-frame\"><thead><tr><th></th><th>Task</th><th>Participant</th><th>Congruency</th><th>Alignment</th><th>FaceGroup</th><th>WithCatch</th><th>isCorrect</th><th>reactionTime</th><th>ExpCode</th><th>RT.Z</th><th>Task_D</th><th>Con_D</th><th>Ali_D</th><th>Task_Con</th><th>Task_Ali</th><th>Con_Ali</th><th>Task_Con_Ali</th></tr><tr><th></th><th>String⍰</th><th>Int64⍰</th><th>String⍰</th><th>String⍰</th><th>String⍰</th><th>String⍰</th><th>Int64⍰</th><th>Float64⍰</th><th>String⍰</th><th>Float64⍰</th><th>Int64⍰</th><th>Int64⍰</th><th>Int64⍰</th><th>Int64⍰</th><th>Int64⍰</th><th>Int64⍰</th><th>Int64⍰</th></tr></thead><tbody><p>24,960 rows × 17 columns</p><tr><th>1</th><td>CFS</td><td>603</td><td>congruent</td><td>aligned</td><td>F4</td><td>FALSE</td><td>1</td><td>0.301101</td><td>E1</td><td>2.04623</td><td>0</td><td>0</td><td>0</td><td>0</td><td>0</td><td>0</td><td>0</td></tr><tr><th>2</th><td>CFS</td><td>603</td><td>incongruent</td><td>aligned</td><td>F4</td><td>FALSE</td><td>1</td><td>0.175829</td><td>E1</td><td>0.642319</td><td>0</td><td>1</td><td>0</td><td>0</td><td>0</td><td>0</td><td>0</td></tr><tr><th>3</th><td>CFS</td><td>603</td><td>incongruent</td><td>misaligned</td><td>F1</td><td>FALSE</td><td>1</td><td>0.141455</td><td>E1</td><td>0.444244</td><td>0</td><td>1</td><td>1</td><td>0</td><td>0</td><td>1</td><td>0</td></tr><tr><th>4</th><td>CFS</td><td>603</td><td>congruent</td><td>aligned</td><td>F1</td><td>FALSE</td><td>0</td><td>0.411571</td><td>E1</td><td>1.14572</td><td>0</td><td>0</td><td>0</td><td>0</td><td>0</td><td>0</td><td>0</td></tr><tr><th>5</th><td>CFS</td><td>603</td><td>incongruent</td><td>aligned</td><td>F4</td><td>FALSE</td><td>1</td><td>0.19605</td><td>E1</td><td>0.877856</td><td>0</td><td>1</td><td>0</td><td>0</td><td>0</td><td>0</td><td>0</td></tr><tr><th>6</th><td>CFS</td><td>603</td><td>incongruent</td><td>aligned</td><td>F2</td><td>FALSE</td><td>1</td><td>0.225365</td><td>E1</td><td>1.21932</td><td>0</td><td>1</td><td>0</td><td>0</td><td>0</td><td>0</td><td>0</td></tr><tr><th>7</th><td>CFS</td><td>603</td><td>congruent</td><td>misaligned</td><td>F1</td><td>FALSE</td><td>1</td><td>0.296118</td><td>E1</td><td>2.29286</td><td>0</td><td>0</td><td>1</td><td>0</td><td>0</td><td>0</td><td>0</td></tr><tr><th>8</th><td>CFS</td><td>603</td><td>incongruent</td><td>misaligned</td><td>F3</td><td>FALSE</td><td>1</td><td>0.146396</td><td>E1</td><td>0.498219</td><td>0</td><td>1</td><td>1</td><td>0</td><td>0</td><td>1</td><td>0</td></tr><tr><th>9</th><td>CFS</td><td>603</td><td>incongruent</td><td>misaligned</td><td>F2</td><td>FALSE</td><td>1</td><td>0.335532</td><td>E1</td><td>2.56426</td><td>0</td><td>1</td><td>1</td><td>0</td><td>0</td><td>1</td><td>0</td></tr><tr><th>10</th><td>CFS</td><td>603</td><td>incongruent</td><td>misaligned</td><td>F5</td><td>FALSE</td><td>1</td><td>0.195993</td><td>E1</td><td>1.04</td><td>0</td><td>1</td><td>1</td><td>0</td><td>0</td><td>1</td><td>0</td></tr><tr><th>11</th><td>CFS</td><td>603</td><td>incongruent</td><td>misaligned</td><td>M3</td><td>FALSE</td><td>1</td><td>0.150545</td><td>E1</td><td>0.543537</td><td>0</td><td>1</td><td>1</td><td>0</td><td>0</td><td>1</td><td>0</td></tr><tr><th>12</th><td>CFS</td><td>603</td><td>incongruent</td><td>aligned</td><td>M3</td><td>FALSE</td><td>1</td><td>0.29087</td><td>E1</td><td>1.98233</td><td>0</td><td>1</td><td>0</td><td>0</td><td>0</td><td>0</td><td>0</td></tr><tr><th>13</th><td>CFS</td><td>603</td><td>incongruent</td><td>aligned</td><td>M3</td><td>FALSE</td><td>1</td><td>0.266122</td><td>E1</td><td>1.69406</td><td>0</td><td>1</td><td>0</td><td>0</td><td>0</td><td>0</td><td>0</td></tr><tr><th>14</th><td>CFS</td><td>603</td><td>congruent</td><td>aligned</td><td>F1</td><td>FALSE</td><td>1</td><td>0.151221</td><td>E1</td><td>0.509619</td><td>0</td><td>0</td><td>0</td><td>0</td><td>0</td><td>0</td><td>0</td></tr><tr><th>15</th><td>CFS</td><td>603</td><td>congruent</td><td>aligned</td><td>F5</td><td>FALSE</td><td>1</td><td>0.0111118</td><td>E1</td><td>-0.926819</td><td>0</td><td>0</td><td>0</td><td>0</td><td>0</td><td>0</td><td>0</td></tr><tr><th>16</th><td>CFS</td><td>603</td><td>incongruent</td><td>aligned</td><td>M5</td><td>FALSE</td><td>1</td><td>0.151013</td><td>E1</td><td>0.353269</td><td>0</td><td>1</td><td>0</td><td>0</td><td>0</td><td>0</td><td>0</td></tr><tr><th>17</th><td>CFS</td><td>603</td><td>congruent</td><td>aligned</td><td>M3</td><td>FALSE</td><td>1</td><td>0.150958</td><td>E1</td><td>0.506932</td><td>0</td><td>0</td><td>0</td><td>0</td><td>0</td><td>0</td><td>0</td></tr><tr><th>18</th><td>CFS</td><td>603</td><td>congruent</td><td>misaligned</td><td>F2</td><td>FALSE</td><td>1</td><td>0.130717</td><td>E1</td><td>0.402546</td><td>0</td><td>0</td><td>1</td><td>0</td><td>0</td><td>0</td><td>0</td></tr><tr><th>19</th><td>CFS</td><td>603</td><td>incongruent</td><td>misaligned</td><td>M1</td><td>FALSE</td><td>1</td><td>0.365437</td><td>E1</td><td>2.89093</td><td>0</td><td>1</td><td>1</td><td>0</td><td>0</td><td>1</td><td>0</td></tr><tr><th>20</th><td>CFS</td><td>603</td><td>congruent</td><td>misaligned</td><td>F2</td><td>FALSE</td><td>1</td><td>0.10865</td><td>E1</td><td>0.150345</td><td>0</td><td>0</td><td>1</td><td>0</td><td>0</td><td>0</td><td>0</td></tr><tr><th>21</th><td>CFS</td><td>603</td><td>congruent</td><td>aligned</td><td>M3</td><td>FALSE</td><td>1</td><td>0.201245</td><td>E1</td><td>1.02249</td><td>0</td><td>0</td><td>0</td><td>0</td><td>0</td><td>0</td><td>0</td></tr><tr><th>22</th><td>CFS</td><td>603</td><td>incongruent</td><td>aligned</td><td>M1</td><td>FALSE</td><td>1</td><td>0.0510787</td><td>E1</td><td>-0.810775</td><td>0</td><td>1</td><td>0</td><td>0</td><td>0</td><td>0</td><td>0</td></tr><tr><th>23</th><td>CFS</td><td>603</td><td>congruent</td><td>aligned</td><td>M5</td><td>FALSE</td><td>1</td><td>0.105414</td><td>E1</td><td>0.0399929</td><td>0</td><td>0</td><td>0</td><td>0</td><td>0</td><td>0</td><td>0</td></tr><tr><th>24</th><td>CFS</td><td>603</td><td>congruent</td><td>aligned</td><td>F5</td><td>FALSE</td><td>1</td><td>0.000729466</td><td>E1</td><td>-1.03326</td><td>0</td><td>0</td><td>0</td><td>0</td><td>0</td><td>0</td><td>0</td></tr><tr><th>25</th><td>CFS</td><td>603</td><td>congruent</td><td>misaligned</td><td>M4</td><td>FALSE</td><td>1</td><td>0.136293</td><td>E1</td><td>0.466265</td><td>0</td><td>0</td><td>1</td><td>0</td><td>0</td><td>0</td><td>0</td></tr><tr><th>26</th><td>CFS</td><td>603</td><td>congruent</td><td>aligned</td><td>F4</td><td>FALSE</td><td>1</td><td>0.000830187</td><td>E1</td><td>-1.03223</td><td>0</td><td>0</td><td>0</td><td>0</td><td>0</td><td>0</td><td>0</td></tr><tr><th>27</th><td>CFS</td><td>603</td><td>congruent</td><td>misaligned</td><td>M2</td><td>FALSE</td><td>1</td><td>0.000576183</td><td>E1</td><td>-1.0848</td><td>0</td><td>0</td><td>1</td><td>0</td><td>0</td><td>0</td><td>0</td></tr><tr><th>28</th><td>CFS</td><td>603</td><td>congruent</td><td>aligned</td><td>F5</td><td>FALSE</td><td>1</td><td>0.240979</td><td>E1</td><td>1.42985</td><td>0</td><td>0</td><td>0</td><td>0</td><td>0</td><td>0</td><td>0</td></tr><tr><th>29</th><td>CFS</td><td>603</td><td>congruent</td><td>misaligned</td><td>M5</td><td>FALSE</td><td>1</td><td>0.241034</td><td>E1</td><td>1.66331</td><td>0</td><td>0</td><td>1</td><td>0</td><td>0</td><td>0</td><td>0</td></tr><tr><th>30</th><td>CFS</td><td>603</td><td>incongruent</td><td>misaligned</td><td>F1</td><td>FALSE</td><td>1</td><td>0.256163</td><td>E1</td><td>1.69727</td><td>0</td><td>1</td><td>1</td><td>0</td><td>0</td><td>1</td><td>0</td></tr><tr><th>&vellip;</th><td>&vellip;</td><td>&vellip;</td><td>&vellip;</td><td>&vellip;</td><td>&vellip;</td><td>&vellip;</td><td>&vellip;</td><td>&vellip;</td><td>&vellip;</td><td>&vellip;</td><td>&vellip;</td><td>&vellip;</td><td>&vellip;</td><td>&vellip;</td><td>&vellip;</td><td>&vellip;</td><td>&vellip;</td></tr></tbody></table>"
      ],
      "text/latex": [
       "\\begin{tabular}{r|ccccccccccccccccc}\n",
       "\t& Task & Participant & Congruency & Alignment & FaceGroup & WithCatch & isCorrect & reactionTime & ExpCode & RT.Z & Task\\_D & Con\\_D & Ali\\_D & Task\\_Con & Task\\_Ali & Con\\_Ali & Task\\_Con\\_Ali\\\\\n",
       "\t\\hline\n",
       "\t& String⍰ & Int64⍰ & String⍰ & String⍰ & String⍰ & String⍰ & Int64⍰ & Float64⍰ & String⍰ & Float64⍰ & Int64⍰ & Int64⍰ & Int64⍰ & Int64⍰ & Int64⍰ & Int64⍰ & Int64⍰\\\\\n",
       "\t\\hline\n",
       "\t1 & CFS & 603 & congruent & aligned & F4 & FALSE & 1 & 0.301101 & E1 & 2.04623 & 0 & 0 & 0 & 0 & 0 & 0 & 0 \\\\\n",
       "\t2 & CFS & 603 & incongruent & aligned & F4 & FALSE & 1 & 0.175829 & E1 & 0.642319 & 0 & 1 & 0 & 0 & 0 & 0 & 0 \\\\\n",
       "\t3 & CFS & 603 & incongruent & misaligned & F1 & FALSE & 1 & 0.141455 & E1 & 0.444244 & 0 & 1 & 1 & 0 & 0 & 1 & 0 \\\\\n",
       "\t4 & CFS & 603 & congruent & aligned & F1 & FALSE & 0 & 0.411571 & E1 & 1.14572 & 0 & 0 & 0 & 0 & 0 & 0 & 0 \\\\\n",
       "\t5 & CFS & 603 & incongruent & aligned & F4 & FALSE & 1 & 0.19605 & E1 & 0.877856 & 0 & 1 & 0 & 0 & 0 & 0 & 0 \\\\\n",
       "\t6 & CFS & 603 & incongruent & aligned & F2 & FALSE & 1 & 0.225365 & E1 & 1.21932 & 0 & 1 & 0 & 0 & 0 & 0 & 0 \\\\\n",
       "\t7 & CFS & 603 & congruent & misaligned & F1 & FALSE & 1 & 0.296118 & E1 & 2.29286 & 0 & 0 & 1 & 0 & 0 & 0 & 0 \\\\\n",
       "\t8 & CFS & 603 & incongruent & misaligned & F3 & FALSE & 1 & 0.146396 & E1 & 0.498219 & 0 & 1 & 1 & 0 & 0 & 1 & 0 \\\\\n",
       "\t9 & CFS & 603 & incongruent & misaligned & F2 & FALSE & 1 & 0.335532 & E1 & 2.56426 & 0 & 1 & 1 & 0 & 0 & 1 & 0 \\\\\n",
       "\t10 & CFS & 603 & incongruent & misaligned & F5 & FALSE & 1 & 0.195993 & E1 & 1.04 & 0 & 1 & 1 & 0 & 0 & 1 & 0 \\\\\n",
       "\t11 & CFS & 603 & incongruent & misaligned & M3 & FALSE & 1 & 0.150545 & E1 & 0.543537 & 0 & 1 & 1 & 0 & 0 & 1 & 0 \\\\\n",
       "\t12 & CFS & 603 & incongruent & aligned & M3 & FALSE & 1 & 0.29087 & E1 & 1.98233 & 0 & 1 & 0 & 0 & 0 & 0 & 0 \\\\\n",
       "\t13 & CFS & 603 & incongruent & aligned & M3 & FALSE & 1 & 0.266122 & E1 & 1.69406 & 0 & 1 & 0 & 0 & 0 & 0 & 0 \\\\\n",
       "\t14 & CFS & 603 & congruent & aligned & F1 & FALSE & 1 & 0.151221 & E1 & 0.509619 & 0 & 0 & 0 & 0 & 0 & 0 & 0 \\\\\n",
       "\t15 & CFS & 603 & congruent & aligned & F5 & FALSE & 1 & 0.0111118 & E1 & -0.926819 & 0 & 0 & 0 & 0 & 0 & 0 & 0 \\\\\n",
       "\t16 & CFS & 603 & incongruent & aligned & M5 & FALSE & 1 & 0.151013 & E1 & 0.353269 & 0 & 1 & 0 & 0 & 0 & 0 & 0 \\\\\n",
       "\t17 & CFS & 603 & congruent & aligned & M3 & FALSE & 1 & 0.150958 & E1 & 0.506932 & 0 & 0 & 0 & 0 & 0 & 0 & 0 \\\\\n",
       "\t18 & CFS & 603 & congruent & misaligned & F2 & FALSE & 1 & 0.130717 & E1 & 0.402546 & 0 & 0 & 1 & 0 & 0 & 0 & 0 \\\\\n",
       "\t19 & CFS & 603 & incongruent & misaligned & M1 & FALSE & 1 & 0.365437 & E1 & 2.89093 & 0 & 1 & 1 & 0 & 0 & 1 & 0 \\\\\n",
       "\t20 & CFS & 603 & congruent & misaligned & F2 & FALSE & 1 & 0.10865 & E1 & 0.150345 & 0 & 0 & 1 & 0 & 0 & 0 & 0 \\\\\n",
       "\t21 & CFS & 603 & congruent & aligned & M3 & FALSE & 1 & 0.201245 & E1 & 1.02249 & 0 & 0 & 0 & 0 & 0 & 0 & 0 \\\\\n",
       "\t22 & CFS & 603 & incongruent & aligned & M1 & FALSE & 1 & 0.0510787 & E1 & -0.810775 & 0 & 1 & 0 & 0 & 0 & 0 & 0 \\\\\n",
       "\t23 & CFS & 603 & congruent & aligned & M5 & FALSE & 1 & 0.105414 & E1 & 0.0399929 & 0 & 0 & 0 & 0 & 0 & 0 & 0 \\\\\n",
       "\t24 & CFS & 603 & congruent & aligned & F5 & FALSE & 1 & 0.000729466 & E1 & -1.03326 & 0 & 0 & 0 & 0 & 0 & 0 & 0 \\\\\n",
       "\t25 & CFS & 603 & congruent & misaligned & M4 & FALSE & 1 & 0.136293 & E1 & 0.466265 & 0 & 0 & 1 & 0 & 0 & 0 & 0 \\\\\n",
       "\t26 & CFS & 603 & congruent & aligned & F4 & FALSE & 1 & 0.000830187 & E1 & -1.03223 & 0 & 0 & 0 & 0 & 0 & 0 & 0 \\\\\n",
       "\t27 & CFS & 603 & congruent & misaligned & M2 & FALSE & 1 & 0.000576183 & E1 & -1.0848 & 0 & 0 & 1 & 0 & 0 & 0 & 0 \\\\\n",
       "\t28 & CFS & 603 & congruent & aligned & F5 & FALSE & 1 & 0.240979 & E1 & 1.42985 & 0 & 0 & 0 & 0 & 0 & 0 & 0 \\\\\n",
       "\t29 & CFS & 603 & congruent & misaligned & M5 & FALSE & 1 & 0.241034 & E1 & 1.66331 & 0 & 0 & 1 & 0 & 0 & 0 & 0 \\\\\n",
       "\t30 & CFS & 603 & incongruent & misaligned & F1 & FALSE & 1 & 0.256163 & E1 & 1.69727 & 0 & 1 & 1 & 0 & 0 & 1 & 0 \\\\\n",
       "\t$\\dots$ & $\\dots$ & $\\dots$ & $\\dots$ & $\\dots$ & $\\dots$ & $\\dots$ & $\\dots$ & $\\dots$ & $\\dots$ & $\\dots$ & $\\dots$ & $\\dots$ & $\\dots$ & $\\dots$ & $\\dots$ & $\\dots$ & $\\dots$ \\\\\n",
       "\\end{tabular}\n"
      ],
      "text/plain": [
       "24960×17 DataFrame. Omitted printing of 12 columns\n",
       "│ Row   │ Task      │ Participant │ Congruency  │ Alignment  │ FaceGroup │\n",
       "│       │ \u001b[90mString⍰\u001b[39m   │ \u001b[90mInt64⍰\u001b[39m      │ \u001b[90mString⍰\u001b[39m     │ \u001b[90mString⍰\u001b[39m    │ \u001b[90mString⍰\u001b[39m   │\n",
       "├───────┼───────────┼─────────────┼─────────────┼────────────┼───────────┤\n",
       "│ 1     │ CFS       │ 603         │ congruent   │ aligned    │ F4        │\n",
       "│ 2     │ CFS       │ 603         │ incongruent │ aligned    │ F4        │\n",
       "│ 3     │ CFS       │ 603         │ incongruent │ misaligned │ F1        │\n",
       "│ 4     │ CFS       │ 603         │ congruent   │ aligned    │ F1        │\n",
       "│ 5     │ CFS       │ 603         │ incongruent │ aligned    │ F4        │\n",
       "│ 6     │ CFS       │ 603         │ incongruent │ aligned    │ F2        │\n",
       "│ 7     │ CFS       │ 603         │ congruent   │ misaligned │ F1        │\n",
       "│ 8     │ CFS       │ 603         │ incongruent │ misaligned │ F3        │\n",
       "│ 9     │ CFS       │ 603         │ incongruent │ misaligned │ F2        │\n",
       "│ 10    │ CFS       │ 603         │ incongruent │ misaligned │ F5        │\n",
       "⋮\n",
       "│ 24950 │ monocular │ 1208        │ incongruent │ misaligned │ F4        │\n",
       "│ 24951 │ monocular │ 1208        │ incongruent │ aligned    │ F2        │\n",
       "│ 24952 │ monocular │ 1208        │ incongruent │ aligned    │ M5        │\n",
       "│ 24953 │ monocular │ 1208        │ incongruent │ misaligned │ M5        │\n",
       "│ 24954 │ monocular │ 1208        │ congruent   │ aligned    │ M2        │\n",
       "│ 24955 │ monocular │ 1208        │ incongruent │ misaligned │ M2        │\n",
       "│ 24956 │ monocular │ 1208        │ incongruent │ aligned    │ M2        │\n",
       "│ 24957 │ monocular │ 1208        │ incongruent │ aligned    │ F5        │\n",
       "│ 24958 │ monocular │ 1208        │ incongruent │ aligned    │ M1        │\n",
       "│ 24959 │ monocular │ 1208        │ incongruent │ aligned    │ M3        │\n",
       "│ 24960 │ monocular │ 1208        │ congruent   │ misaligned │ F1        │"
      ]
     },
     "execution_count": 25,
     "metadata": {},
     "output_type": "execute_result"
    }
   ],
   "source": [
    "df_all = CSV.read(\"NeSI/P101_cf_clean.csv\")"
   ]
  },
  {
   "cell_type": "code",
   "execution_count": 30,
   "metadata": {},
   "outputs": [
    {
     "data": {
      "text/plain": [
       "Generalized Linear Mixed Model fit by maximum likelihood (nAGQ = 1)\n",
       "  Formula: isCorrect ~ Congruency + Alignment + ExpCode + Congruency & Alignment + ((1 + Con_D + Ali_D + Con_Ali) | Participant)\n",
       "  Distribution: Bernoulli{Float64}\n",
       "  Link: LogitLink()\n",
       "\n",
       "  Deviance: 18584.0614\n",
       "\n",
       "Variance components:\n",
       "                 Column   Variance Std.Dev.   Corr.\n",
       " Participant (Intercept)         1        1\n",
       "             Con_D               1        1  0.00\n",
       "             Ali_D               1        1  0.00  0.00\n",
       "             Con_Ali             1        1  0.00  0.00  0.00\n",
       "\n",
       " Number of obs: 24960; levels of grouping factors: 78\n",
       "\n",
       "Fixed-effects parameters:\n",
       "                                                   Estimate Std.Error    z value P(>|z|)\n",
       "(Intercept)                                         2.30937  0.236977    9.74512  <1e-21\n",
       "Congruency: incongruent                           -0.592384  0.126189   -4.69442   <1e-5\n",
       "Alignment: misaligned                            -0.0661426  0.128477   -0.51482  0.6067\n",
       "ExpCode: E2                                      0.00193894  0.297351 0.00652071  0.9948\n",
       "ExpCode: E3                                       -0.167744  0.332798  -0.504043  0.6142\n",
       "ExpCode: E4                                       0.0775571  0.579217     0.1339  0.8935\n",
       "Congruency: incongruent & Alignment: misaligned    0.406321  0.138802    2.92735  0.0034\n"
      ]
     },
     "execution_count": 30,
     "metadata": {},
     "output_type": "execute_result"
    }
   ],
   "source": [
    "test = GeneralizedLinearMixedModel(@formula(isCorrect ~  Congruency * Alignment + ExpCode + \n",
    "        (1 + Con_D + Ali_D + Con_Ali | Participant)),\n",
    "           df_all, Bernoulli())"
   ]
  },
  {
   "cell_type": "code",
   "execution_count": 31,
   "metadata": {},
   "outputs": [
    {
     "ename": "MethodError",
     "evalue": "MethodError: no method matching mul!(::Array{Float64,2}, ::LinearAlgebra.Adjoint{Float64,VectorFactorReTerm{Float64,UInt8,8}}, ::VectorFactorReTerm{Float64,UInt8,8})\nClosest candidates are:\n  mul!(::AbstractArray, ::AbstractArray, !Matched::Number) at C:\\cygwin\\home\\Administrator\\buildbot\\worker\\package_win64\\build\\usr\\share\\julia\\stdlib\\v1.1\\LinearAlgebra\\src\\generic.jl:27\n  mul!(::AbstractArray{T,2} where T, ::Union{AbstractArray{T,2}, AbstractArray{T,1}} where T, !Matched::LinearAlgebra.Transpose{#s623,#s622} where #s622<:(Union{AbstractArray{T,2}, AbstractArray{T,1}} where T) where #s623) at C:\\cygwin\\home\\Administrator\\buildbot\\worker\\package_win64\\build\\usr\\share\\julia\\stdlib\\v1.1\\LinearAlgebra\\src\\matmul.jl:254\n  mul!(::AbstractArray{T,2} where T, ::Union{AbstractArray{T,2}, AbstractArray{T,1}} where T, !Matched::LinearAlgebra.Adjoint{#s623,#s622} where #s622<:(Union{AbstractArray{T,2}, AbstractArray{T,1}} where T) where #s623) at C:\\cygwin\\home\\Administrator\\buildbot\\worker\\package_win64\\build\\usr\\share\\julia\\stdlib\\v1.1\\LinearAlgebra\\src\\matmul.jl:309\n  ...",
     "output_type": "error",
     "traceback": [
      "MethodError: no method matching mul!(::Array{Float64,2}, ::LinearAlgebra.Adjoint{Float64,VectorFactorReTerm{Float64,UInt8,8}}, ::VectorFactorReTerm{Float64,UInt8,8})\nClosest candidates are:\n  mul!(::AbstractArray, ::AbstractArray, !Matched::Number) at C:\\cygwin\\home\\Administrator\\buildbot\\worker\\package_win64\\build\\usr\\share\\julia\\stdlib\\v1.1\\LinearAlgebra\\src\\generic.jl:27\n  mul!(::AbstractArray{T,2} where T, ::Union{AbstractArray{T,2}, AbstractArray{T,1}} where T, !Matched::LinearAlgebra.Transpose{#s623,#s622} where #s622<:(Union{AbstractArray{T,2}, AbstractArray{T,1}} where T) where #s623) at C:\\cygwin\\home\\Administrator\\buildbot\\worker\\package_win64\\build\\usr\\share\\julia\\stdlib\\v1.1\\LinearAlgebra\\src\\matmul.jl:254\n  mul!(::AbstractArray{T,2} where T, ::Union{AbstractArray{T,2}, AbstractArray{T,1}} where T, !Matched::LinearAlgebra.Adjoint{#s623,#s622} where #s622<:(Union{AbstractArray{T,2}, AbstractArray{T,1}} where T) where #s623) at C:\\cygwin\\home\\Administrator\\buildbot\\worker\\package_win64\\build\\usr\\share\\julia\\stdlib\\v1.1\\LinearAlgebra\\src\\matmul.jl:309\n  ...",
      "",
      "Stacktrace:",
      " [1] reweight!(::LinearMixedModel{Float64}, ::Array{Float64,1}) at C:\\Users\\hjin317\\.julia\\packages\\MixedModels\\vHlps\\src\\pls.jl:395",
      " [2] deviance!(::GeneralizedLinearMixedModel{Float64}, ::Int64) at C:\\Users\\hjin317\\.julia\\packages\\MixedModels\\vHlps\\src\\PIRLS.jl:100",
      " [3] #GeneralizedLinearMixedModel#40(::Array{Any,1}, ::Array{Any,1}, ::Dict{Any,Any}, ::Type, ::StatsModels.Formula, ::DataFrame, ::Bernoulli{Float64}, ::LogitLink) at C:\\Users\\hjin317\\.julia\\packages\\MixedModels\\vHlps\\src\\PIRLS.jl:41",
      " [4] #GeneralizedLinearMixedModel#43 at .\\none:0 [inlined]",
      " [5] GeneralizedLinearMixedModel(::StatsModels.Formula, ::DataFrame, ::Bernoulli{Float64}) at C:\\Users\\hjin317\\.julia\\packages\\MixedModels\\vHlps\\src\\PIRLS.jl:46",
      " [6] top-level scope at In[31]:1"
     ]
    }
   ],
   "source": [
    "# create the model for glmm\n",
    "lmm_formula = GeneralizedLinearMixedModel(@formula(isCorrect ~  Task * Congruency * Alignment + ExpCode + \n",
    "        (1 + Task_D + Con_D + Ali_D + Task_Con + Task_Ali + Con_Ali + Task_Con_Ali | Participant) + \n",
    "        (1 + Task_D + Con_D + Ali_D + Task_Con + Task_Ali + Con_Ali + Task_Con_Ali | FaceGroup)),\n",
    "    df_all,\n",
    "    Bernoulli());\n",
    "\n",
    "# set the optimizer\n",
    "#lmm_formula.optsum.optimizer = :LN_BOBYQA; \n",
    "\n",
    "# fit the model\n",
    "lmm = fit!(lmm_formula, verbose = true)"
   ]
  },
  {
   "cell_type": "code",
   "execution_count": 28,
   "metadata": {},
   "outputs": [
    {
     "ename": "MethodError",
     "evalue": "MethodError: no method matching mul!(::Array{Float64,2}, ::LinearAlgebra.Adjoint{Float64,VectorFactorReTerm{Float64,UInt8,8}}, ::VectorFactorReTerm{Float64,UInt8,8})\nClosest candidates are:\n  mul!(::AbstractArray, ::AbstractArray, !Matched::Number) at C:\\cygwin\\home\\Administrator\\buildbot\\worker\\package_win64\\build\\usr\\share\\julia\\stdlib\\v1.1\\LinearAlgebra\\src\\generic.jl:27\n  mul!(::AbstractArray{T,2} where T, ::Union{AbstractArray{T,2}, AbstractArray{T,1}} where T, !Matched::LinearAlgebra.Transpose{#s623,#s622} where #s622<:(Union{AbstractArray{T,2}, AbstractArray{T,1}} where T) where #s623) at C:\\cygwin\\home\\Administrator\\buildbot\\worker\\package_win64\\build\\usr\\share\\julia\\stdlib\\v1.1\\LinearAlgebra\\src\\matmul.jl:254\n  mul!(::AbstractArray{T,2} where T, ::Union{AbstractArray{T,2}, AbstractArray{T,1}} where T, !Matched::LinearAlgebra.Adjoint{#s623,#s622} where #s622<:(Union{AbstractArray{T,2}, AbstractArray{T,1}} where T) where #s623) at C:\\cygwin\\home\\Administrator\\buildbot\\worker\\package_win64\\build\\usr\\share\\julia\\stdlib\\v1.1\\LinearAlgebra\\src\\matmul.jl:309\n  ...",
     "output_type": "error",
     "traceback": [
      "MethodError: no method matching mul!(::Array{Float64,2}, ::LinearAlgebra.Adjoint{Float64,VectorFactorReTerm{Float64,UInt8,8}}, ::VectorFactorReTerm{Float64,UInt8,8})\nClosest candidates are:\n  mul!(::AbstractArray, ::AbstractArray, !Matched::Number) at C:\\cygwin\\home\\Administrator\\buildbot\\worker\\package_win64\\build\\usr\\share\\julia\\stdlib\\v1.1\\LinearAlgebra\\src\\generic.jl:27\n  mul!(::AbstractArray{T,2} where T, ::Union{AbstractArray{T,2}, AbstractArray{T,1}} where T, !Matched::LinearAlgebra.Transpose{#s623,#s622} where #s622<:(Union{AbstractArray{T,2}, AbstractArray{T,1}} where T) where #s623) at C:\\cygwin\\home\\Administrator\\buildbot\\worker\\package_win64\\build\\usr\\share\\julia\\stdlib\\v1.1\\LinearAlgebra\\src\\matmul.jl:254\n  mul!(::AbstractArray{T,2} where T, ::Union{AbstractArray{T,2}, AbstractArray{T,1}} where T, !Matched::LinearAlgebra.Adjoint{#s623,#s622} where #s622<:(Union{AbstractArray{T,2}, AbstractArray{T,1}} where T) where #s623) at C:\\cygwin\\home\\Administrator\\buildbot\\worker\\package_win64\\build\\usr\\share\\julia\\stdlib\\v1.1\\LinearAlgebra\\src\\matmul.jl:309\n  ...",
      "",
      "Stacktrace:",
      " [1] reweight!(::LinearMixedModel{Float64}, ::Array{Float64,1}) at C:\\Users\\hjin317\\.julia\\packages\\MixedModels\\vHlps\\src\\pls.jl:395",
      " [2] deviance!(::GeneralizedLinearMixedModel{Float64}, ::Int64) at C:\\Users\\hjin317\\.julia\\packages\\MixedModels\\vHlps\\src\\PIRLS.jl:100",
      " [3] #GeneralizedLinearMixedModel#40(::Array{Any,1}, ::Array{Any,1}, ::Dict{Any,Any}, ::Type, ::StatsModels.Formula, ::DataFrame, ::Bernoulli{Float64}, ::LogitLink) at C:\\Users\\hjin317\\.julia\\packages\\MixedModels\\vHlps\\src\\PIRLS.jl:41",
      " [4] fit(::Type{GeneralizedLinearMixedModel}, ::StatsModels.Formula, ::DataFrame, ::Bernoulli{Float64}) at C:\\Users\\hjin317\\.julia\\packages\\MixedModels\\vHlps\\src\\PIRLS.jl:20",
      " [5] top-level scope at In[28]:1"
     ]
    }
   ],
   "source": [
    "glm = fit(GeneralizedLinearMixedModel,\n",
    "    @formula(isCorrect ~  Task_D + Con_D + Ali_D + Task_Con + Task_Ali + Con_Ali + Task_Con_Ali + ExpCode + \n",
    "        (1 + Task_D + Con_D + Ali_D + Task_Con + Task_Ali + Con_Ali + Task_Con_Ali | Participant) + \n",
    "        (1 + Task_D + Con_D + Ali_D + Task_Con + Task_Ali + Con_Ali + Task_Con_Ali | FaceGroup)),\n",
    "     df_all,\n",
    "     Bernoulli())\n"
   ]
  }
 ],
 "metadata": {
  "kernelspec": {
   "display_name": "Julia 1.1.0",
   "language": "julia",
   "name": "julia-1.1"
  },
  "language_info": {
   "file_extension": ".jl",
   "mimetype": "application/julia",
   "name": "julia",
   "version": "1.1.0"
  }
 },
 "nbformat": 4,
 "nbformat_minor": 2
}
